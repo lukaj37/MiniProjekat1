{
 "cells": [
  {
   "cell_type": "code",
   "execution_count": 57,
   "metadata": {},
   "outputs": [],
   "source": [
    "import cv2\n",
    "import numpy as np"
   ]
  },
  {
   "cell_type": "code",
   "execution_count": 63,
   "metadata": {},
   "outputs": [
    {
     "name": "stdout",
     "output_type": "stream",
     "text": [
      "(579, 781) (579, 781)\n"
     ]
    }
   ],
   "source": [
    "#ucitavanje slika\n",
    "he_image = cv2.imread(\"HE.tif\", cv2.IMREAD_GRAYSCALE)\n",
    "le_image = cv2.imread(\"LE.tif\", cv2.IMREAD_GRAYSCALE)\n",
    "print(he_image.shape,le_image.shape)"
   ]
  },
  {
   "cell_type": "code",
   "execution_count": 64,
   "metadata": {},
   "outputs": [
    {
     "name": "stdout",
     "output_type": "stream",
     "text": [
      "156.98817998270673 162.26921996731528\n"
     ]
    }
   ],
   "source": [
    "#srednja vrednost pixela HE i LE slike\n",
    "average_pixel_value_he = np.mean(he_image)\n",
    "average_pixel_value_le = np.mean(le_image)\n",
    "print(average_pixel_value_he, average_pixel_value_le)"
   ]
  },
  {
   "cell_type": "code",
   "execution_count": 65,
   "metadata": {},
   "outputs": [
    {
     "name": "stdout",
     "output_type": "stream",
     "text": [
      "[[ True False False ... False False  True]\n",
      " [ True False False ...  True  True  True]\n",
      " [ True False False ... False False False]\n",
      " ...\n",
      " [ True False False ... False  True False]\n",
      " [ True False  True ... False False False]\n",
      " [ True False False ... False False False]]\n"
     ]
    }
   ],
   "source": [
    "# Prag do kog se pikseli ne smatraju stranim telom\n",
    "# prag = abs(average_pixel_value_he - average_pixel_value_le)  \n",
    "prag = 30\n",
    "# Pronađite piksele sa stranim telom\n",
    "strano_telo1 = cv2.absdiff(he_image, average_pixel_value_he) > prag\n",
    "strano_telo2 = cv2.absdiff(le_image, average_pixel_value_le) > prag\n",
    "print(strano_telo1)"
   ]
  },
  {
   "cell_type": "code",
   "execution_count": 66,
   "metadata": {},
   "outputs": [],
   "source": [
    "#Kreiranje bele pozadine\n",
    "visina, sirina = he_image.shape\n",
    "beli_piksli = np.ones((visina, sirina), dtype=np.uint8) * 255       "
   ]
  },
  {
   "cell_type": "code",
   "execution_count": 67,
   "metadata": {},
   "outputs": [
    {
     "data": {
      "text/plain": [
       "True"
      ]
     },
     "execution_count": 67,
     "metadata": {},
     "output_type": "execute_result"
    }
   ],
   "source": [
    "#Dodavanje crnih piksela stranog tela na mestima gde su pikseli okarakterisani kao strano telo i na HE i na LE slici\n",
    "beli_piksli[strano_telo1 == strano_telo2] = 0\n",
    "cv2.imwrite('rezultat.tif', beli_piksli)"
   ]
  }
 ],
 "metadata": {
  "kernelspec": {
   "display_name": "Python 3",
   "language": "python",
   "name": "python3"
  },
  "language_info": {
   "codemirror_mode": {
    "name": "ipython",
    "version": 3
   },
   "file_extension": ".py",
   "mimetype": "text/x-python",
   "name": "python",
   "nbconvert_exporter": "python",
   "pygments_lexer": "ipython3",
   "version": "3.11.2"
  }
 },
 "nbformat": 4,
 "nbformat_minor": 2
}
